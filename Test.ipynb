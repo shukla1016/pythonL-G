{
 "cells": [
  {
   "cell_type": "code",
   "execution_count": 30,
   "metadata": {},
   "outputs": [
    {
     "name": "stdout",
     "output_type": "stream",
     "text": [
      "30\n"
     ]
    }
   ],
   "source": [
    "a = 10\n",
    "b = 20\n",
    "c = a + b\n",
    "print c"
   ]
  },
  {
   "cell_type": "code",
   "execution_count": 31,
   "metadata": {},
   "outputs": [
    {
     "name": "stdout",
     "output_type": "stream",
     "text": [
      "['apple', 'banana', 'guava']\n",
      "['apple', 'banana', 'guava']\n"
     ]
    }
   ],
   "source": [
    "mylist = [\"apple\" , \"banana\" , \"guava\"]\n",
    "print mylist\n",
    "thislist = list((\"apple\",\"banana\",\"guava\"))\n",
    "print thislist"
   ]
  },
  {
   "cell_type": "code",
   "execution_count": 33,
   "metadata": {},
   "outputs": [
    {
     "name": "stdout",
     "output_type": "stream",
     "text": [
      "[1, 2, 3, 1, 2, 3]\n"
     ]
    }
   ],
   "source": [
    "l = [1,2,3]\n",
    "l2 = l*2\n",
    "print l2"
   ]
  },
  {
   "cell_type": "code",
   "execution_count": 32,
   "metadata": {},
   "outputs": [
    {
     "name": "stdout",
     "output_type": "stream",
     "text": [
      "[1, 2, 3, 1, 2, 3] [1, 2, 3, 11, 22, 33]\n"
     ]
    }
   ],
   "source": [
    "l = [1,2,3]\n",
    "l1 = [11,22,33]\n",
    "l2 = l*2\n",
    "l3 = l + l1\n",
    "print l2,l3"
   ]
  },
  {
   "cell_type": "code",
   "execution_count": 34,
   "metadata": {},
   "outputs": [
    {
     "name": "stdout",
     "output_type": "stream",
     "text": [
      "['apple', 'orange', 'orange']\n"
     ]
    }
   ],
   "source": [
    "l = [1,2,3]\n",
    "l1 = [11,22,33]\n",
    "mylist = [\"apple\" , \"banana\" , \"orange\"]\n",
    "newlist = [x if x != \"banana\" else \"orange\" for x in mylist]\n",
    "print newlist"
   ]
  },
  {
   "cell_type": "code",
   "execution_count": 35,
   "metadata": {},
   "outputs": [
    {
     "name": "stdout",
     "output_type": "stream",
     "text": [
      "list1[0] =  physics\n",
      "list2[1:5] =  [2, 3, 4, 5]\n",
      "list2[2:] =  [3, 4, 5, 6, 7]\n",
      "list2[:2] =  [1, 2]\n",
      "list2[-2:] =  [6, 7]\n",
      "list2[:-2] =  [1, 2, 3, 4, 5]\n",
      "list2[2:-2] =  [3, 4, 5]\n",
      "list2[-2:2] =  []\n"
     ]
    }
   ],
   "source": [
    "list1 = ['physics' , 'chemistry' , 1997 , 2000]\n",
    "list2 = [1,2,3,4,5,6,7]\n",
    "print\"list1[0] = \", list1[0]\n",
    "print\"list2[1:5] = \", list2[1:5]\n",
    "print\"list2[2:] = \", list2[2:]\n",
    "print\"list2[:2] = \", list2[:2]\n",
    "print\"list2[-2:] = \", list2[-2:]\n",
    "print\"list2[:-2] = \", list2[:-2]\n",
    "print\"list2[2:-2] = \", list2[2:-2]\n",
    "print\"list2[-2:2] = \", list2[-2:2]"
   ]
  },
  {
   "cell_type": "code",
   "execution_count": 36,
   "metadata": {},
   "outputs": [
    {
     "name": "stdout",
     "output_type": "stream",
     "text": [
      "physics\n",
      "chemistry\n",
      "1997\n",
      "2000\n"
     ]
    }
   ],
   "source": [
    "list1 = ['physics','chemistry',1997,2000]\n",
    "for i in list1:\n",
    "    print(i)"
   ]
  },
  {
   "cell_type": "code",
   "execution_count": 37,
   "metadata": {},
   "outputs": [
    {
     "name": "stdout",
     "output_type": "stream",
     "text": [
      "['physics', 'chemistry', 1997, 2000]\n",
      "['physics', 'chemistry', 100, 2000]\n"
     ]
    }
   ],
   "source": [
    "list1 = ['physics','chemistry',1997,2000]\n",
    "print list1\n",
    "list1[2] = 100\n",
    "print list1"
   ]
  },
  {
   "cell_type": "code",
   "execution_count": 38,
   "metadata": {},
   "outputs": [
    {
     "name": "stdout",
     "output_type": "stream",
     "text": [
      "['physics', 'chemistry', 1997, 2000]\n",
      "['physics', 'chemistry', 2000]\n"
     ]
    }
   ],
   "source": [
    "list1 = ['physics','chemistry',1997,2000]\n",
    "print list1\n",
    "list1[2] = 100\n",
    "del list1[2];\n",
    "print list1"
   ]
  },
  {
   "cell_type": "code",
   "execution_count": 39,
   "metadata": {},
   "outputs": [
    {
     "name": "stdout",
     "output_type": "stream",
     "text": [
      "orange\n",
      "orange\n",
      "orange\n",
      "orange\n"
     ]
    }
   ],
   "source": [
    "list1 = ['physics','chemistry',1997,2000]\n",
    "for i in list1:\n",
    "    print(x)"
   ]
  },
  {
   "cell_type": "code",
   "execution_count": 40,
   "metadata": {},
   "outputs": [
    {
     "name": "stdout",
     "output_type": "stream",
     "text": [
      "physics\n",
      "chemistry\n",
      "1997\n",
      "2000\n"
     ]
    }
   ],
   "source": [
    "list1 = ['physics','chemistry',1997,2000]\n",
    "for i in range(len(list1)):\n",
    "    print(list1[i])"
   ]
  },
  {
   "cell_type": "code",
   "execution_count": 41,
   "metadata": {},
   "outputs": [
    {
     "name": "stdout",
     "output_type": "stream",
     "text": [
      "physics\n",
      "chemistry\n",
      "1997\n",
      "2000\n"
     ]
    }
   ],
   "source": [
    "list1 = ['physics','chemistry',1997,2000]\n",
    "i = 0\n",
    "while i < len(list1):\n",
    "    print list1[i]\n",
    "    i+=1"
   ]
  },
  {
   "cell_type": "code",
   "execution_count": 42,
   "metadata": {},
   "outputs": [
    {
     "name": "stdout",
     "output_type": "stream",
     "text": [
      "[1, 2, 3, 4, 5, 6, 7, 'physics', 'chemistry', 1997, 2000]\n"
     ]
    }
   ],
   "source": [
    "list1 = ['physics' , 'chemistry' , 1997 , 2000]\n",
    "list2 = [1,2,3,4,5,6,7]\n",
    "for x in list1:\n",
    "    list2.append(x)\n",
    "print list2"
   ]
  },
  {
   "cell_type": "code",
   "execution_count": 44,
   "metadata": {},
   "outputs": [
    {
     "name": "stdout",
     "output_type": "stream",
     "text": [
      "[0, 1, 2, 3, 4, 5, 6, 7, 8, 9] [0, 1, 2, 3, 4] ['AAPLE', 'BANANA', 'CHERRY']\n"
     ]
    }
   ],
   "source": [
    "fruits = ['aaple', 'banana' , \"cherry\" ]\n",
    "newlist0 = [x for x in range(10)]\n",
    "newlist1 = [x for x in range(10) if x<5]\n",
    "newlist2 = [x.upper() for x in fruits]\n",
    "\n",
    "print newlist0,newlist1,newlist2"
   ]
  },
  {
   "cell_type": "code",
   "execution_count": 47,
   "metadata": {},
   "outputs": [
    {
     "name": "stdout",
     "output_type": "stream",
     "text": [
      "['Python', 'Java', '.Net', 'C', 'C++']\n",
      "['Python', 'Java', '.Net', 'C', 'C++', 'Ruby']\n",
      "['Python', 'Java', '.Net', 'C', 'C++', 'Ruby', 'J', 'S']\n",
      "['Python', 'Assembly', 'Java', '.Net', 'C', 'C++', 'Ruby', 'J', 'S']\n",
      "['Python', 'Assembly', 'Java', '.Net', 'C++', 'Ruby', 'J', 'S']\n",
      "['.Net', 'Assembly', 'C++', 'J', 'Java', 'Python', 'Ruby', 'S']\n",
      "['S', 'J', 'Ruby', 'C++', '.Net', 'Java', 'Assembly', 'Python']\n"
     ]
    }
   ],
   "source": [
    "list1 = [\"Python\",\"Java\",\".Net\",\"C\",\"C++\"]\n",
    "print list1\n",
    "list1.append(\"Ruby\")\n",
    "print list1\n",
    "list1.extend(\"JS\")\n",
    "print list1\n",
    "list1.insert(1,\"Assembly\")\n",
    "print list1\n",
    "list1.remove('C')\n",
    "print list1\n",
    "print sorted(list1)\n",
    "print list1[::-1]"
   ]
  },
  {
   "cell_type": "code",
   "execution_count": 54,
   "metadata": {},
   "outputs": [
    {
     "data": {
      "text/plain": [
       "True"
      ]
     },
     "execution_count": 54,
     "metadata": {},
     "output_type": "execute_result"
    }
   ],
   "source": [
    "bool(\"abc\")\n",
    "bool(123)"
   ]
  },
  {
   "cell_type": "code",
   "execution_count": 51,
   "metadata": {},
   "outputs": [
    {
     "name": "stdout",
     "output_type": "stream",
     "text": [
      "False\n",
      "False\n",
      "False\n",
      "False\n",
      "False\n",
      "False\n",
      "False\n"
     ]
    }
   ],
   "source": [
    "print bool(False)\n",
    "print bool(None)\n",
    "print bool(0)\n",
    "print bool(\"\")\n",
    "print bool(())\n",
    "print bool([])\n",
    "print bool({})"
   ]
  },
  {
   "cell_type": "code",
   "execution_count": 55,
   "metadata": {},
   "outputs": [
    {
     "name": "stdout",
     "output_type": "stream",
     "text": [
      "Values inside my function :  [10, 20, 30, [1, 2, 3, 4]]\n",
      "Values outside my function :  [10, 20, 30, [1, 2, 3, 4]]\n"
     ]
    }
   ],
   "source": [
    "def fn(mylist):\n",
    "    mylist.append([1,2,3,4])\n",
    "    print \"Values inside my function : \",mylist\n",
    "    return\n",
    "mylist = [10,20,30]\n",
    "fn(mylist)\n",
    "print \"Values outside my function : \",mylist"
   ]
  },
  {
   "cell_type": "code",
   "execution_count": 57,
   "metadata": {},
   "outputs": [
    {
     "name": "stdout",
     "output_type": "stream",
     "text": [
      "Name :  Parth\n",
      "Age :  35\n",
      "Name :  Parth\n",
      "Age :  25\n"
     ]
    }
   ],
   "source": [
    "def printinfo(name , age = 35):\n",
    "    print \"Name : \",name\n",
    "    print \"Age : \",age\n",
    "    return\n",
    "printinfo(\"Parth\")\n",
    "printinfo(\"Parth\" , 25)"
   ]
  },
  {
   "cell_type": "code",
   "execution_count": 60,
   "metadata": {},
   "outputs": [
    {
     "name": "stdout",
     "output_type": "stream",
     "text": [
      "Values inside my function :  [0, 1, 2]\n",
      "Values outside my function :  [10, 20, 30]\n"
     ]
    }
   ],
   "source": [
    "def change(mylist):\n",
    "    mylist = [0,1,2]\n",
    "    print \"Values inside my function : \",mylist\n",
    "    return\n",
    "mylist = [10,20,30]\n",
    "change(mylist)\n",
    "print \"Values outside my function : \",mylist"
   ]
  },
  {
   "cell_type": "code",
   "execution_count": 61,
   "metadata": {},
   "outputs": [],
   "source": [
    "x = 88"
   ]
  },
  {
   "cell_type": "code",
   "execution_count": 62,
   "metadata": {},
   "outputs": [
    {
     "data": {
      "text/plain": [
       "88"
      ]
     },
     "execution_count": 62,
     "metadata": {},
     "output_type": "execute_result"
    }
   ],
   "source": [
    "x"
   ]
  },
  {
   "cell_type": "code",
   "execution_count": 65,
   "metadata": {},
   "outputs": [
    {
     "name": "stdout",
     "output_type": "stream",
     "text": [
      "[10, 20, 30]\n",
      "20\n",
      "C\n",
      "M\n",
      "D\n",
      "A\n"
     ]
    }
   ],
   "source": [
    "def change(*mylist):\n",
    "    for i in mylist:\n",
    "        print(i)\n",
    "    return\n",
    "change([10,20,30])\n",
    "change(20)\n",
    "change(\"C\", \"M\" , \"D\" , \"A\")"
   ]
  },
  {
   "cell_type": "code",
   "execution_count": 70,
   "metadata": {},
   "outputs": [
    {
     "name": "stdout",
     "output_type": "stream",
     "text": [
      "30\n",
      "Parth  Shukla\n",
      "[1, 2, 3, 'One', 'two', 'three']\n"
     ]
    }
   ],
   "source": [
    "sum = lambda arg1,arg2 : arg1+arg2\n",
    "\n",
    "print sum(10,20)\n",
    "print sum(\"Parth \",\" Shukla\")\n",
    "print sum([1,2,3],[\"One\",\"two\",\"three\"])"
   ]
  },
  {
   "cell_type": "code",
   "execution_count": 76,
   "metadata": {},
   "outputs": [
    {
     "name": "stdout",
     "output_type": "stream",
     "text": [
      "5050505050\n"
     ]
    }
   ],
   "source": [
    "def myfun(n):\n",
    "    return lambda a:a*n\n",
    "mydoubler = myfun(2)\n",
    "print mydoubler(2525252525)"
   ]
  },
  {
   "cell_type": "code",
   "execution_count": 89,
   "metadata": {},
   "outputs": [
    {
     "name": "stdout",
     "output_type": "stream",
     "text": [
      "{1: 'Python', 2: 'android', 3: 'windows'}\n",
      "android\n",
      "windows\n",
      "[1, 2, 3]\n",
      "['Python', 'android', 'windows']\n",
      "{1: 'Python', 2: 'android', 3: 'windows', 4: 'Black Berry'}\n",
      "{1: 'Python', 2: 'android', 3: 'windows', 4: 'Google'}\n",
      "{1: 'apple', 2: 'banana'}\n",
      "{1: 'one', 2: 'two'}\n"
     ]
    }
   ],
   "source": [
    "thisdict = {1:\"Python\",2:\"android\",3:\"windows\"}\n",
    "print thisdict\n",
    "print thisdict[2]\n",
    "print thisdict[3]\n",
    "print thisdict.keys()\n",
    "print thisdict.values()\n",
    "thisdict.update({4:\"Black Berry\"})\n",
    "print thisdict\n",
    "thisdict[4] = \"Google\"\n",
    "print thisdict\n",
    "dict4 = dict({1:'apple',2:'banana'})\n",
    "print dict4\n",
    "dict5 = dict([(1,'one'),(2,'two')])\n",
    "print dict5"
   ]
  },
  {
   "cell_type": "code",
   "execution_count": 90,
   "metadata": {},
   "outputs": [
    {
     "name": "stdout",
     "output_type": "stream",
     "text": [
      "{'Maths': 0, 'Science': 0, 'English': 0}\n",
      "('Maths', 0)\n",
      "('Science', 0)\n",
      "('English', 0)\n",
      "['English', 'Maths', 'Science']\n"
     ]
    }
   ],
   "source": [
    "marks = {}.fromkeys(['Maths', 'English', 'Science'],0)\n",
    "print marks\n",
    "for item in marks.items():\n",
    "    print(item)\n",
    "print(list(sorted(marks.keys())))"
   ]
  },
  {
   "cell_type": "code",
   "execution_count": 91,
   "metadata": {},
   "outputs": [
    {
     "name": "stdout",
     "output_type": "stream",
     "text": [
      "{0: 0, 1: 1, 2: 4, 3: 9, 4: 16, 5: 25}\n",
      "{0: 0, 1: 1, 2: 4, 3: 9, 4: 16, 5: 25}\n"
     ]
    }
   ],
   "source": [
    "squares = {x:x*x for x in range(6)}\n",
    "print squares\n",
    "squares = {}\n",
    "for x in range(6):\n",
    "    squares[x] = x*x\n",
    "print squares"
   ]
  },
  {
   "cell_type": "code",
   "execution_count": 93,
   "metadata": {},
   "outputs": [
    {
     "name": "stdout",
     "output_type": "stream",
     "text": [
      "True\n",
      "True\n",
      "False\n",
      "1\n",
      "9\n",
      "81\n",
      "25\n",
      "49\n"
     ]
    }
   ],
   "source": [
    "squares = {1:1, 3:9, 5:25, 7:49, 9:81}\n",
    "print 1 in squares\n",
    "print 2 not in squares\n",
    "print 49 in squares\n",
    "for i in squares:\n",
    "    print squares[i]"
   ]
  },
  {
   "cell_type": "code",
   "execution_count": 94,
   "metadata": {},
   "outputs": [
    {
     "name": "stdout",
     "output_type": "stream",
     "text": [
      "{'age': 28, 'name': 'Dionsyia'}\n",
      "Athenes\n"
     ]
    }
   ],
   "source": [
    "my_information = {\"name\" : \"Dionsyia\" , \"age\" : 28 , \"location\" : \"Athenes\"}\n",
    "city = my_information.pop('location')\n",
    "print my_information\n",
    "print city"
   ]
  },
  {
   "cell_type": "code",
   "execution_count": 95,
   "metadata": {},
   "outputs": [
    {
     "name": "stdout",
     "output_type": "stream",
     "text": [
      "{'age': 28, 'name': 'Dionsyia', 'location': 'Athenes'}\n",
      "Not Found\n"
     ]
    }
   ],
   "source": [
    "my_information = {\"name\" : \"Dionsyia\" , \"age\" : 28 , \"location\" : \"Athenes\"}\n",
    "a = my_information.pop('occupation' , 'Not Found')\n",
    "print my_information\n",
    "print a"
   ]
  },
  {
   "cell_type": "code",
   "execution_count": 101,
   "metadata": {},
   "outputs": [
    {
     "name": "stdout",
     "output_type": "stream",
     "text": [
      "{'child1': {'name': 'Emil', 'year': 2004}, 'child2': {'name': 'Tobias', 'year': 2011}, 'child3': {'name': 'Linus', 'year': 2015}}\n",
      "{'child22': 'child2', 'child11': 'child1', 'child33': 'child3'}\n"
     ]
    }
   ],
   "source": [
    "dic = {\n",
    "    \"child1\" : {\n",
    "        \"name\" : \"Emil\",\n",
    "        \"year\" : 2004\n",
    "    },\n",
    "    \"child2\" : {\n",
    "        \"name\" : \"Tobias\",\n",
    "        \"year\" : 2011\n",
    "    },\n",
    "    \"child3\" : {\n",
    "        \"name\" : \"Linus\",\n",
    "        \"year\" : 2015\n",
    "    }\n",
    "}\n",
    "\n",
    "print dic\n",
    "\n",
    "aa = {\"child11\" : \"child1\", \"child22\" : \"child2\", \"child33\" : \"child3\"}\n",
    "print aa"
   ]
  },
  {
   "cell_type": "code",
   "execution_count": 114,
   "metadata": {},
   "outputs": [
    {
     "name": "stdout",
     "output_type": "stream",
     "text": [
      "Hello L&G\n",
      "Hello L&G\n",
      "Hello L&GHello L&GHello L&G\n",
      "Hello World\n",
      "Hello L&G\n",
      "HELLO WORLD\n"
     ]
    }
   ],
   "source": [
    "str1 = \"Hello L&G\"\n",
    "print str1\n",
    "str2 = \"Hello \" + \"L&G\"\n",
    "print str2\n",
    "str3 = 3*str1\n",
    "print str3\n",
    "print str1.replace(\"L&G\",\"World\")\n",
    "x = str1.replace(\"L&G\",\"World\")\n",
    "print str1\n",
    "print x.upper()"
   ]
  },
  {
   "cell_type": "code",
   "execution_count": 105,
   "metadata": {},
   "outputs": [
    {
     "data": {
      "text/plain": [
       "['1', '2', '3', '4', '5', '6']"
      ]
     },
     "execution_count": 105,
     "metadata": {},
     "output_type": "execute_result"
    }
   ],
   "source": [
    "str4 = \"1,2,3,4,5,6\"\n",
    "str4.split(\",\")"
   ]
  },
  {
   "cell_type": "code",
   "execution_count": 107,
   "metadata": {},
   "outputs": [
    {
     "name": "stdout",
     "output_type": "stream",
     "text": [
      "       Hello World\n",
      "Hello World         \n",
      "Hello World\n"
     ]
    }
   ],
   "source": [
    "str8 = \"       Hello World         \"\n",
    "print str8.rstrip()\n",
    "print str8.lstrip()\n",
    "print str8.strip()"
   ]
  },
  {
   "cell_type": "code",
   "execution_count": 111,
   "metadata": {},
   "outputs": [
    {
     "data": {
      "text/plain": [
       "'Hello L&G'"
      ]
     },
     "execution_count": 111,
     "metadata": {},
     "output_type": "execute_result"
    }
   ],
   "source": [
    "str6 = \"\"\n",
    "str6.join(str1)"
   ]
  },
  {
   "cell_type": "code",
   "execution_count": 121,
   "metadata": {},
   "outputs": [
    {
     "name": "stdout",
     "output_type": "stream",
     "text": [
      "True\n",
      "Yes, free is present\n",
      "True\n",
      "No, expensive is present\n"
     ]
    }
   ],
   "source": [
    "txt = \"the best things in life are free\"\n",
    "print \"free\" in txt\n",
    "if \"free\" in txt:\n",
    "    print \"Yes, free is present\"\n",
    "\n",
    "print \"expensive\" not in txt\n",
    "\n",
    "if \"expensive\" not in txt:\n",
    "    print \"No, expensive is present\""
   ]
  },
  {
   "cell_type": "code",
   "execution_count": 122,
   "metadata": {},
   "outputs": [
    {
     "name": "stdout",
     "output_type": "stream",
     "text": [
      "llo\n",
      "Hello\n",
      "llo World!\n",
      "orl\n"
     ]
    }
   ],
   "source": [
    "b = \"Hello World!\"\n",
    "print b[2:5]\n",
    "print b[:5]\n",
    "print b[2:]\n",
    "print b[-5:-2]"
   ]
  },
  {
   "cell_type": "code",
   "execution_count": 124,
   "metadata": {},
   "outputs": [
    {
     "name": "stdout",
     "output_type": "stream",
     "text": [
      "My name is John, and I'm 36\n",
      "My name is John, and I'm 36\n"
     ]
    }
   ],
   "source": [
    "age = 36\n",
    "print \"My name is John, and I'm \" + str(age)\n",
    "txt = \"My name is John, and I'm {}\"\n",
    "print txt.format(age)\n",
    "q = 3\n",
    "i = 567\n",
    "p = 49.95\n",
    "myorder = \"i want {} peices of item {} for {} dollars\"\n",
    "print myorder."
   ]
  },
  {
   "cell_type": "code",
   "execution_count": 126,
   "metadata": {},
   "outputs": [
    {
     "ename": "TypeError",
     "evalue": "cannot concatenate 'str' and 'int' objects",
     "output_type": "error",
     "traceback": [
      "\u001b[1;31m\u001b[0m",
      "\u001b[1;31mTypeError\u001b[0mTraceback (most recent call last)",
      "\u001b[1;32m<ipython-input-126-40ccf9202b0c>\u001b[0m in \u001b[0;36m<module>\u001b[1;34m()\u001b[0m\n\u001b[0;32m      1\u001b[0m \u001b[0mstr1\u001b[0m \u001b[1;33m=\u001b[0m \u001b[1;34m\"Parth \"\u001b[0m\u001b[1;33m\u001b[0m\u001b[0m\n\u001b[1;32m----> 2\u001b[1;33m \u001b[1;32mprint\u001b[0m \u001b[0mstr1\u001b[0m \u001b[1;33m+\u001b[0m \u001b[1;36m9\u001b[0m\u001b[1;33m\u001b[0m\u001b[0m\n\u001b[0m",
      "\u001b[1;31mTypeError\u001b[0m: cannot concatenate 'str' and 'int' objects"
     ]
    }
   ],
   "source": [
    "str1 = \"Parth \"\n",
    "print str1 + 9"
   ]
  },
  {
   "cell_type": "code",
   "execution_count": 129,
   "metadata": {},
   "outputs": [
    {
     "name": "stdout",
     "output_type": "stream",
     "text": [
      "in fun a 100 200 300 40\n",
      "in fun b 1000 2000 300 40\n",
      "in fun c 10000 2000 300 40\n",
      "In main  10 20 30 40\n"
     ]
    }
   ],
   "source": [
    "a,b,c,d = 10,20,30,40\n",
    "def funA():\n",
    "    a,b,c=100,200,300\n",
    "    print \"in fun a\",a,b,c,d\n",
    "    def funB():\n",
    "        a,b=1000,2000,\n",
    "        print \"in fun b\",a,b,c,d\n",
    "        def funC():\n",
    "            a=10000\n",
    "            print \"in fun c\",a,b,c,d\n",
    "        funC()\n",
    "    funB()\n",
    "funA()\n",
    "print \"In main \",a,b,c,d"
   ]
  },
  {
   "cell_type": "code",
   "execution_count": 132,
   "metadata": {},
   "outputs": [
    {
     "name": "stdout",
     "output_type": "stream",
     "text": [
      "['She', 'sells', 'sea', 'shells', 'on', 'the', 'sea', 'shore']\n"
     ]
    }
   ],
   "source": [
    "import re\n",
    "strings = \"She sells sea shells on the sea shore\"\n",
    "print re.split(\" \",strings)"
   ]
  },
  {
   "cell_type": "code",
   "execution_count": 134,
   "metadata": {},
   "outputs": [
    {
     "name": "stdout",
     "output_type": "stream",
     "text": [
      "Help on instance of Infant in module __main__:\n",
      "\n",
      "class Infant\n",
      " |  This is example class\n",
      "\n"
     ]
    }
   ],
   "source": [
    "class Infant:\n",
    "    \"This is example class\"\n",
    "    pass\n",
    "child = Infant()\n",
    "help(child)"
   ]
  },
  {
   "cell_type": "code",
   "execution_count": 135,
   "metadata": {},
   "outputs": [
    {
     "name": "stdout",
     "output_type": "stream",
     "text": [
      "statrted crawling\n"
     ]
    }
   ],
   "source": [
    "class Infant :\n",
    "    def Walk(self):\n",
    "        print \"statrted crawling\"\n",
    "    \n",
    "child = Infant()\n",
    "child.Walk()"
   ]
  },
  {
   "cell_type": "code",
   "execution_count": 138,
   "metadata": {},
   "outputs": [
    {
     "name": "stdout",
     "output_type": "stream",
     "text": [
      "walk-mom\n",
      "('the address of self is ', 82002184L)\n",
      "('the address of self is ', 82002184L)\n"
     ]
    }
   ],
   "source": [
    "class Mom():\n",
    "    def Walk(self):\n",
    "        print(\"walk-mom\")\n",
    "        print(\"the address of self is \", id(self))\n",
    "class Child(Mom):\n",
    "    pass\n",
    "child = Child()\n",
    "child.Walk()\n",
    "print(\"the address of self is \", id(child))"
   ]
  },
  {
   "cell_type": "code",
   "execution_count": 140,
   "metadata": {},
   "outputs": [
    {
     "name": "stdout",
     "output_type": "stream",
     "text": [
      "<type 'instancemethod'>\n",
      "<type 'instancemethod'>\n"
     ]
    }
   ],
   "source": [
    "class Mom():\n",
    "    def Walk(self):\n",
    "        print \"Walk-Mom\"\n",
    "        print \"the address of self is \", id(self)\n",
    "Mother = Mom()\n",
    "print(type(Mom.Walk))\n",
    "print(type(Mother.Walk))"
   ]
  },
  {
   "cell_type": "code",
   "execution_count": 142,
   "metadata": {},
   "outputs": [
    {
     "name": "stdout",
     "output_type": "stream",
     "text": [
      "I'm public\n",
      "I'm protected\n"
     ]
    }
   ],
   "source": [
    "class Example():\n",
    "    def __init__(self):\n",
    "        self.__private = \"I'm private\"\n",
    "        self._protected = \"I'm protected\"\n",
    "        self.public = \"I'm public\"\n",
    "ob = Example()\n",
    "print(ob.public)\n",
    "print(ob._protected)\n",
    "#print(ob.__private)"
   ]
  },
  {
   "cell_type": "code",
   "execution_count": 143,
   "metadata": {},
   "outputs": [
    {
     "name": "stdout",
     "output_type": "stream",
     "text": [
      "Object constructed\n",
      "Object Destroyed\n"
     ]
    }
   ],
   "source": [
    "class Example():\n",
    "    def __init__(self):\n",
    "        print(\"Object constructed\")\n",
    "    def __del__(self):\n",
    "        print(\"Object Destroyed\")\n",
    "obj = Example()\n",
    "del(obj)"
   ]
  },
  {
   "cell_type": "code",
   "execution_count": 144,
   "metadata": {},
   "outputs": [
    {
     "name": "stdout",
     "output_type": "stream",
     "text": [
      "(2019, 4, 17)\n",
      "(15, 2018, 4)\n",
      "(1, 17, 2017)\n",
      "2019\n",
      "15\n",
      "1\n"
     ]
    }
   ],
   "source": [
    "class Date:\n",
    "    def __init__(self,day,month,year):\n",
    "        self.year = year\n",
    "        self.month = month\n",
    "        self.day = day\n",
    "        \n",
    "    @classmethod    \n",
    "    def myd(cls,month,year,day):\n",
    "        cls.day = day\n",
    "        cls.month = month\n",
    "        cls.year = year\n",
    "        return cls(cls.day,cls.month,cls.year)\n",
    "    \n",
    "    @classmethod\n",
    "    def ymd(cls,month,year,day):\n",
    "        cls.day = day\n",
    "        cls.month = month\n",
    "        cls.year = year\n",
    "        return cls(cls.day,cls.month,cls.year)\n",
    "    \n",
    "d1 = Date(17,4,2019)\n",
    "print(d1.year,d1.month,d1.day)\n",
    "\n",
    "d2 = Date(4,2018,15)\n",
    "print(d2.year,d2.month,d2.day)\n",
    "\n",
    "d3 = Date(2017,17,1)\n",
    "print(d3.year,d3.month,d3.day)\n",
    "\n",
    "print(d1.year)\n",
    "print(d2.year)\n",
    "print(d3.year)"
   ]
  },
  {
   "cell_type": "code",
   "execution_count": 23,
   "metadata": {},
   "outputs": [
    {
     "name": "stdout",
     "output_type": "stream",
     "text": [
      "[2 5 7 9]\n",
      "==============\n",
      "[[2 5 7 9]\n",
      " [2 5 7 9]]\n",
      "==============\n",
      "[[2 4 6]\n",
      " [2 7 9]]\n",
      "==============\n",
      "[[2 4 6]\n",
      " [3 6 9]\n",
      " [1 2 3]]\n",
      "==============\n",
      "[[10.  0.  0.  0.]\n",
      " [ 0. 10.  0.  0.]\n",
      " [ 0.  0. 10.  0.]\n",
      " [ 0.  0.  0. 10.]]\n",
      "==============\n",
      "[[0. 0. 0. 0. 0. 0.]\n",
      " [0. 0. 0. 0. 0. 0.]\n",
      " [0. 0. 0. 0. 0. 0.]\n",
      " [0. 0. 0. 0. 0. 0.]]\n",
      "==============\n",
      "[[5. 5. 5. 5. 5.]\n",
      " [5. 5. 5. 5. 5.]\n",
      " [5. 5. 5. 5. 5.]]\n",
      "==============\n",
      "[0 1 2 3 4 5 6 7 8 9]\n",
      "==============\n",
      "[-5 -4 -3 -2 -1  0  1  2  3  4  5  6  7  8  9]\n",
      "==============\n",
      "[[[7.30536274e-01 2.97548036e-02 5.33534312e-01 9.11378825e-01\n",
      "   2.51827106e-01 2.10763718e-01]\n",
      "  [2.57667215e-01 1.63043550e-01 6.35648003e-01 8.91313234e-01\n",
      "   5.78943117e-01 5.56620202e-02]\n",
      "  [5.45453424e-03 5.73249424e-04 9.42645614e-01 5.77756041e-02\n",
      "   1.44351652e-01 5.60637983e-01]]\n",
      "\n",
      " [[3.99200022e-01 4.47694971e-01 8.33220799e-01 1.81128795e-01\n",
      "   4.32771771e-01 7.98626485e-01]\n",
      "  [6.19521827e-01 2.27875320e-01 4.34037771e-01 6.45174585e-01\n",
      "   4.27503486e-01 4.60596997e-02]\n",
      "  [5.72839555e-01 9.35624391e-01 8.79133595e-01 6.58506504e-01\n",
      "   1.68584720e-01 6.35733679e-02]]]\n",
      "==============\n",
      "[[-0.27248784 -0.60299657  0.58980388  0.09550473  0.41995502]\n",
      " [-0.4175793   1.15762088 -1.96593432  0.87749241 -0.1215692 ]\n",
      " [ 0.33821756  0.76146698 -0.00342008  0.82622808  1.13836513]\n",
      " [-2.11737356  0.61883787 -0.43618323 -0.36930319  0.89009721]]\n",
      "1.16.3\n"
     ]
    }
   ],
   "source": [
    "import numpy as np\n",
    "lst = [2,5,7,9]\n",
    "x11 = np.array(lst)\n",
    "y = np.array([lst,lst])\n",
    "z = np.array([[2,4,6],[2,7,9]])\n",
    "n1 = np.array([[2,4,6],[3,6,9],[1,2,3]])\n",
    "n2 = 10*np.eye(4)\n",
    "n3 = np.zeros(shape=(4,6))\n",
    "n4 = 5*np.ones(shape=(3,5))\n",
    "n5 = np.arange(10)\n",
    "n6 = np.arange(-5,10)\n",
    "n7 = np.random.rand(2,3,6)\n",
    "n8 = np.random.randn(4,5)\n",
    "print x\n",
    "print\"==============\"\n",
    "print y\n",
    "print\"==============\"\n",
    "print z\n",
    "print\"==============\"\n",
    "print n1\n",
    "print\"==============\"\n",
    "print n2\n",
    "print\"==============\"\n",
    "print n3\n",
    "print\"==============\"\n",
    "print n4\n",
    "print\"==============\"\n",
    "print n5\n",
    "print\"==============\"\n",
    "print n6\n",
    "print\"==============\"\n",
    "print n7\n",
    "print\"==============\"\n",
    "print n8\n",
    "print np.__version__"
   ]
  },
  {
   "cell_type": "code",
   "execution_count": 19,
   "metadata": {},
   "outputs": [
    {
     "data": {
      "text/plain": [
       "(4L,)"
      ]
     },
     "execution_count": 19,
     "metadata": {},
     "output_type": "execute_result"
    }
   ],
   "source": [
    "x11.shape"
   ]
  },
  {
   "cell_type": "code",
   "execution_count": 20,
   "metadata": {},
   "outputs": [
    {
     "data": {
      "text/plain": [
       "array([2, 5, 7, 9])"
      ]
     },
     "execution_count": 20,
     "metadata": {},
     "output_type": "execute_result"
    }
   ],
   "source": [
    "x11 "
   ]
  },
  {
   "cell_type": "code",
   "execution_count": 24,
   "metadata": {},
   "outputs": [
    {
     "name": "stdout",
     "output_type": "stream",
     "text": [
      "[[[[[1 2 3 4 5]]]]]\n",
      "5\n"
     ]
    }
   ],
   "source": [
    "import numpy as np\n",
    "arr = np.array([1,2,3,4,5], ndmin=5)\n",
    "print arr\n",
    "print arr.ndim"
   ]
  },
  {
   "cell_type": "code",
   "execution_count": 27,
   "metadata": {},
   "outputs": [
    {
     "name": "stdout",
     "output_type": "stream",
     "text": [
      "[1 2 3 4 5 6 7 8]\n",
      "[3 4 5 6 7 8]\n",
      "[1 2]\n",
      "[1 2 3 4 5 6]\n",
      "[7 8]\n",
      "[4 5]\n"
     ]
    }
   ],
   "source": [
    "import numpy as np\n",
    "arr = np.array([1,2,3,4,5,6,7,8])\n",
    "print arr\n",
    "print arr[2:]\n",
    "print arr[:2]\n",
    "print arr[:-2]\n",
    "print arr[-2:]\n",
    "print arr[3:5]"
   ]
  },
  {
   "cell_type": "code",
   "execution_count": 2,
   "metadata": {},
   "outputs": [
    {
     "name": "stdout",
     "output_type": "stream",
     "text": [
      "[[ 1  2  3  4  5  6  7  8]\n",
      " [11 22 33 44 55 66 77 88]]\n",
      "[22 33 44]\n",
      "[ 3 33]\n",
      "[[ 2  3  4]\n",
      " [22 33 44]]\n"
     ]
    }
   ],
   "source": [
    "import numpy as np\n",
    "arr = np.array([[1,2,3,4,5,6,7,8],[11,22,33,44,55,66,77,88]])\n",
    "print arr\n",
    "print arr[1,1:4]\n",
    "print arr[0:2,2]\n",
    "print arr[0:2,1:4]"
   ]
  },
  {
   "cell_type": "code",
   "execution_count": 37,
   "metadata": {},
   "outputs": [
    {
     "data": {
      "text/html": [
       "<div>\n",
       "<style scoped>\n",
       "    .dataframe tbody tr th:only-of-type {\n",
       "        vertical-align: middle;\n",
       "    }\n",
       "\n",
       "    .dataframe tbody tr th {\n",
       "        vertical-align: top;\n",
       "    }\n",
       "\n",
       "    .dataframe thead th {\n",
       "        text-align: right;\n",
       "    }\n",
       "</style>\n",
       "<table border=\"1\" class=\"dataframe\">\n",
       "  <thead>\n",
       "    <tr style=\"text-align: right;\">\n",
       "      <th></th>\n",
       "      <th>1</th>\n",
       "      <th>Astha</th>\n",
       "      <th>26-Jan</th>\n",
       "    </tr>\n",
       "  </thead>\n",
       "  <tbody>\n",
       "    <tr>\n",
       "      <th>0</th>\n",
       "      <td>2</td>\n",
       "      <td>Hardik</td>\n",
       "      <td>21-Jan</td>\n",
       "    </tr>\n",
       "    <tr>\n",
       "      <th>1</th>\n",
       "      <td>3</td>\n",
       "      <td>Hrishikesh</td>\n",
       "      <td>19-Apr</td>\n",
       "    </tr>\n",
       "    <tr>\n",
       "      <th>2</th>\n",
       "      <td>4</td>\n",
       "      <td>Madhu</td>\n",
       "      <td>04-Apr</td>\n",
       "    </tr>\n",
       "    <tr>\n",
       "      <th>3</th>\n",
       "      <td>5</td>\n",
       "      <td>Mranal</td>\n",
       "      <td>02-Nov</td>\n",
       "    </tr>\n",
       "    <tr>\n",
       "      <th>4</th>\n",
       "      <td>6</td>\n",
       "      <td>Parth</td>\n",
       "      <td>16-Aug</td>\n",
       "    </tr>\n",
       "    <tr>\n",
       "      <th>5</th>\n",
       "      <td>7</td>\n",
       "      <td>Shreya</td>\n",
       "      <td>09-Jun</td>\n",
       "    </tr>\n",
       "  </tbody>\n",
       "</table>\n",
       "</div>"
      ],
      "text/plain": [
       "   1       Astha  26-Jan\n",
       "0  2      Hardik  21-Jan\n",
       "1  3  Hrishikesh  19-Apr\n",
       "2  4       Madhu  04-Apr\n",
       "3  5      Mranal  02-Nov\n",
       "4  6       Parth  16-Aug\n",
       "5  7      Shreya  09-Jun"
      ]
     },
     "execution_count": 37,
     "metadata": {},
     "output_type": "execute_result"
    }
   ],
   "source": [
    "import pandas as pd\n",
    "pd.read_csv(\"D:\\\\New Microsoft Excel Worksheet.csv\")"
   ]
  },
  {
   "cell_type": "code",
   "execution_count": 39,
   "metadata": {},
   "outputs": [],
   "source": [
    "temp = [30,31,32,33,34,35,36,37,38,39,40,41]\n",
    "mon = [\"jan\",\"feb\",\"march\",\"apr\",\"may\",\"june\",\"july\",\"aug\",\"sept\",\"oct\",\"nov\",\"dec\"]\n",
    "s1 = pd.Series(temp,mon)"
   ]
  },
  {
   "cell_type": "code",
   "execution_count": 40,
   "metadata": {},
   "outputs": [
    {
     "data": {
      "text/plain": [
       "jan      30\n",
       "feb      31\n",
       "march    32\n",
       "apr      33\n",
       "may      34\n",
       "june     35\n",
       "july     36\n",
       "aug      37\n",
       "sept     38\n",
       "oct      39\n",
       "nov      40\n",
       "dec      41\n",
       "dtype: int64"
      ]
     },
     "execution_count": 40,
     "metadata": {},
     "output_type": "execute_result"
    }
   ],
   "source": [
    "s1"
   ]
  },
  {
   "cell_type": "code",
   "execution_count": 41,
   "metadata": {},
   "outputs": [
    {
     "data": {
      "text/plain": [
       "march    32\n",
       "apr      33\n",
       "may      34\n",
       "june     35\n",
       "july     36\n",
       "aug      37\n",
       "sept     38\n",
       "dtype: int64"
      ]
     },
     "execution_count": 41,
     "metadata": {},
     "output_type": "execute_result"
    }
   ],
   "source": [
    "s1[2:9]"
   ]
  },
  {
   "cell_type": "code",
   "execution_count": 42,
   "metadata": {},
   "outputs": [],
   "source": [
    "df = pd.read_csv(\"D:\\\\New Microsoft Excel Worksheet.csv\")"
   ]
  },
  {
   "cell_type": "code",
   "execution_count": 7,
   "metadata": {},
   "outputs": [
    {
     "name": "stdout",
     "output_type": "stream",
     "text": [
      "        0  Rain\n",
      "jan    30    10\n",
      "feb    31    20\n",
      "march  32    30\n",
      "apr    33    10\n",
      "may    34    40\n",
      "june   35    20\n",
      "july   36     6\n",
      "aug    37     5\n",
      "sept   38     6\n",
      "oct    39     3\n",
      "nov    40     1\n",
      "dec    41     3\n"
     ]
    }
   ],
   "source": [
    "import pandas as pd\n",
    "temp = [30,31,32,33,34,35,36,37,38,39,40,41]\n",
    "mon = [\"jan\",\"feb\",\"march\",\"apr\",\"may\",\"june\",\"july\",\"aug\",\"sept\",\"oct\",\"nov\",\"dec\"]\n",
    "s1 = pd.Series(temp,mon)\n",
    "table = pd.DataFrame(s1)\n",
    "table['Rain'] = pd.Series([10,20,30,10,40,20,6,5,6,3,1,3],index = [\"jan\",\"feb\",\"march\",\"apr\",\"may\",\"june\",\"july\",\"aug\",\"sept\",\"oct\",\"nov\",\"dec\"])\n",
    "print table"
   ]
  },
  {
   "cell_type": "code",
   "execution_count": 8,
   "metadata": {},
   "outputs": [
    {
     "name": "stdout",
     "output_type": "stream",
     "text": [
      "Empty DataFrame\n",
      "Columns: []\n",
      "Index: []\n"
     ]
    }
   ],
   "source": [
    "import numpy as np\n",
    "import pandas as pd\n",
    "df = pd.DataFrame()\n",
    "print df"
   ]
  },
  {
   "cell_type": "code",
   "execution_count": 15,
   "metadata": {},
   "outputs": [
    {
     "name": "stdout",
     "output_type": "stream",
     "text": [
      "[1, 2, 3, 4, 5, 6, 'a', 2.0, 'f']\n",
      "===================\n",
      "   0\n",
      "0  1\n",
      "1  2\n",
      "2  3\n",
      "3  4\n",
      "4  5\n",
      "5  6\n",
      "6  a\n",
      "7  2\n",
      "8  f\n",
      "===================\n",
      "[1, 2, 3, 4, 5, 6, 'a', 2.0, 'f']\n",
      "    0\n",
      "99  1\n",
      "98  2\n",
      "97  3\n",
      "96  4\n",
      "95  5\n",
      "94  6\n",
      "93  a\n",
      "92  2\n",
      "91  f\n",
      "===================\n",
      "   0          1\n",
      "0  1      Parth\n",
      "1  2     Shreya\n",
      "2  3     Mranal\n",
      "3  4  Hrishkesh\n",
      "===================\n",
      "0 0    1\n",
      "1    2\n",
      "2    3\n",
      "3    4\n",
      "Name: 0, dtype: int64\n",
      "1 0        Parth\n",
      "1       Shreya\n",
      "2       Mranal\n",
      "3    Hrishkesh\n",
      "Name: 1, dtype: object\n",
      "===================\n"
     ]
    }
   ],
   "source": [
    "lst = [1,2,3,4,5,6,'a',2.0,'f']\n",
    "print lst\n",
    "print \"===================\"\n",
    "df = pd.DataFrame(lst)\n",
    "print df\n",
    "print \"===================\"\n",
    "lst1 = [1,2,3,4,5,6,'a',2.0,'f']\n",
    "print lst\n",
    "df = pd.DataFrame(lst1,index = [99,98,97,96,95,94,93,92,91])\n",
    "print df\n",
    "print \"===================\"\n",
    "data = [[1,\"Parth\"],[2,\"Shreya\"],[3,\"Mranal\"],[4,\"Hrishkesh\"]]\n",
    "df = pd.DataFrame(data)\n",
    "print df\n",
    "print \"===================\"\n",
    "for x,n in df.iteritems():\n",
    "    print x,n\n",
    "print \"===================\""
   ]
  },
  {
   "cell_type": "code",
   "execution_count": 16,
   "metadata": {},
   "outputs": [
    {
     "name": "stdout",
     "output_type": "stream",
     "text": [
      "0 0    1\n",
      "1    2\n",
      "2    3\n",
      "3    4\n",
      "Name: 0, dtype: int64\n",
      "1 0        Parth\n",
      "1       Shreya\n",
      "2       Mranal\n",
      "3    Hrishkesh\n",
      "Name: 1, dtype: object\n"
     ]
    }
   ],
   "source": [
    "for x,n in df.iteritems():\n",
    "    print x,n"
   ]
  },
  {
   "cell_type": "code",
   "execution_count": 19,
   "metadata": {},
   "outputs": [
    {
     "name": "stdout",
     "output_type": "stream",
     "text": [
      "       col1      col2      col3      col4\n",
      "6  0.076368 -0.359217 -1.277019 -1.124506\n",
      "7 -1.903112  0.334928 -1.028459 -1.344166\n",
      "8  0.571965 -0.456533 -0.616997 -0.750799\n",
      "9  0.270075 -2.015854 -0.021814  0.953672\n",
      "6 col1    0.076368\n",
      "col2   -0.359217\n",
      "col3   -1.277019\n",
      "col4   -1.124506\n",
      "Name: 6, dtype: float64\n",
      "7 col1   -1.903112\n",
      "col2    0.334928\n",
      "col3   -1.028459\n",
      "col4   -1.344166\n",
      "Name: 7, dtype: float64\n",
      "8 col1    0.571965\n",
      "col2   -0.456533\n",
      "col3   -0.616997\n",
      "col4   -0.750799\n",
      "Name: 8, dtype: float64\n",
      "9 col1    0.270075\n",
      "col2   -2.015854\n",
      "col3   -0.021814\n",
      "col4    0.953672\n",
      "Name: 9, dtype: float64\n",
      "col1 6    0.076368\n",
      "7   -1.903112\n",
      "8    0.571965\n",
      "9    0.270075\n",
      "Name: col1, dtype: float64\n",
      "col2 6   -0.359217\n",
      "7    0.334928\n",
      "8   -0.456533\n",
      "9   -2.015854\n",
      "Name: col2, dtype: float64\n",
      "col3 6   -1.277019\n",
      "7   -1.028459\n",
      "8   -0.616997\n",
      "9   -0.021814\n",
      "Name: col3, dtype: float64\n",
      "col4 6   -1.124506\n",
      "7   -1.344166\n",
      "8   -0.750799\n",
      "9    0.953672\n",
      "Name: col4, dtype: float64\n"
     ]
    }
   ],
   "source": [
    "df = pd.DataFrame(np.random.randn(4,4),index = [6,7,8,9],columns = ['col1','col2','col3','col4'])\n",
    "print df\n",
    "for row_index,row in df.iterrows():\n",
    "    print row_index,row\n",
    "for row_index,row in df.iteritems():\n",
    "    print row_index,row"
   ]
  },
  {
   "cell_type": "code",
   "execution_count": 20,
   "metadata": {},
   "outputs": [
    {
     "name": "stdout",
     "output_type": "stream",
     "text": [
      "6 col1    0.076368\n",
      "col2   -0.359217\n",
      "col3   -1.277019\n",
      "col4   -1.124506\n",
      "Name: 6, dtype: float64\n",
      "7 col1   -1.903112\n",
      "col2    0.334928\n",
      "col3   -1.028459\n",
      "col4   -1.344166\n",
      "Name: 7, dtype: float64\n",
      "8 col1    0.571965\n",
      "col2   -0.456533\n",
      "col3   -0.616997\n",
      "col4   -0.750799\n",
      "Name: 8, dtype: float64\n",
      "9 col1    0.270075\n",
      "col2   -2.015854\n",
      "col3   -0.021814\n",
      "col4    0.953672\n",
      "Name: 9, dtype: float64\n"
     ]
    }
   ],
   "source": [
    "for row_index,row in df.iterrows():\n",
    "    print row_index,row"
   ]
  },
  {
   "cell_type": "code",
   "execution_count": 21,
   "metadata": {},
   "outputs": [
    {
     "name": "stdout",
     "output_type": "stream",
     "text": [
      "col1 6    0.076368\n",
      "7   -1.903112\n",
      "8    0.571965\n",
      "9    0.270075\n",
      "Name: col1, dtype: float64\n",
      "col2 6   -0.359217\n",
      "7    0.334928\n",
      "8   -0.456533\n",
      "9   -2.015854\n",
      "Name: col2, dtype: float64\n",
      "col3 6   -1.277019\n",
      "7   -1.028459\n",
      "8   -0.616997\n",
      "9   -0.021814\n",
      "Name: col3, dtype: float64\n",
      "col4 6   -1.124506\n",
      "7   -1.344166\n",
      "8   -0.750799\n",
      "9    0.953672\n",
      "Name: col4, dtype: float64\n"
     ]
    }
   ],
   "source": [
    "for row_index,row in df.iteritems():\n",
    "    print row_index,row"
   ]
  },
  {
   "cell_type": "code",
   "execution_count": 23,
   "metadata": {},
   "outputs": [
    {
     "name": "stdout",
     "output_type": "stream",
     "text": [
      "Pandas(Index=6L, col1=0.07636773287851707, col2=-0.3592169286503022, col3=-1.2770191534044448, col4=-1.1245063274726472)\n",
      "Pandas(Index=7L, col1=-1.9031123728392059, col2=0.3349277964875046, col3=-1.0284585979760155, col4=-1.3441660054137385)\n",
      "Pandas(Index=8L, col1=0.5719652430321405, col2=-0.45653276277703775, col3=-0.6169972101120113, col4=-0.7507994228023044)\n",
      "Pandas(Index=9L, col1=0.27007474132372983, col2=-2.015853746886435, col3=-0.02181420595737471, col4=0.9536724792296143)\n"
     ]
    }
   ],
   "source": [
    "for row in df.itertuples():\n",
    "    print row"
   ]
  },
  {
   "cell_type": "code",
   "execution_count": 36,
   "metadata": {},
   "outputs": [
    {
     "name": "stdout",
     "output_type": "stream",
     "text": [
      "{'A': ['a', 'b', 'c'], 'C': [2014, 2015, 2016], 'B': [1, 2, 3], 'D': ['AA', 'BB', 'yy']}\n",
      "   A  B     C   D\n",
      "0  a  1  2014  AA\n",
      "1  b  2  2015  BB\n",
      "2  c  3  2016  yy\n",
      "   A  B     C   D\n",
      "1  a  1  2014  AA\n",
      "2  b  2  2015  BB\n",
      "4  c  3  2016  yy\n",
      "                a     b     c    g    h\n",
      "first   [a, a, c]   NaN   NaN  NaN  NaN\n",
      "second          5  10.0  20.0  NaN  NaN\n",
      "th             11   NaN   NaN  6.0  1.0\n"
     ]
    }
   ],
   "source": [
    "A = {'A':['a','b','c'],'B' : [1,2,3], 'C':[2014,2015,2016],'D':[\"AA\",\"BB\",\"yy\"]}\n",
    "print A\n",
    "df = pd.DataFrame(A)\n",
    "print df\n",
    "df = pd.DataFrame(A,index = [1,2,4])\n",
    "print df\n",
    "#lstdis = [{'A':['a','b','c']},{'B':[1,2,3]},'C':{'AA','BB','CC'}]\n",
    "data = [{'a':[1,2],'b':2},{'a':5,'b':10,'c':20}]\n",
    "data2 = [{'a':['a','a','c']},{'a':5,'b':10,'c':20},{'a':11,'h':1,'g':6}]\n",
    "df = pd.DataFrame(data2,index=['first','second','th'])\n",
    "print df"
   ]
  },
  {
   "cell_type": "code",
   "execution_count": 33,
   "metadata": {},
   "outputs": [
    {
     "data": {
      "text/html": [
       "<div>\n",
       "<style scoped>\n",
       "    .dataframe tbody tr th:only-of-type {\n",
       "        vertical-align: middle;\n",
       "    }\n",
       "\n",
       "    .dataframe tbody tr th {\n",
       "        vertical-align: top;\n",
       "    }\n",
       "\n",
       "    .dataframe thead th {\n",
       "        text-align: right;\n",
       "    }\n",
       "</style>\n",
       "<table border=\"1\" class=\"dataframe\">\n",
       "  <thead>\n",
       "    <tr style=\"text-align: right;\">\n",
       "      <th></th>\n",
       "      <th>0</th>\n",
       "      <th>1</th>\n",
       "      <th>2</th>\n",
       "    </tr>\n",
       "  </thead>\n",
       "  <tbody>\n",
       "    <tr>\n",
       "      <th>m</th>\n",
       "      <td>1.0</td>\n",
       "      <td>2.0</td>\n",
       "      <td>3.0</td>\n",
       "    </tr>\n",
       "    <tr>\n",
       "      <th>n</th>\n",
       "      <td>11.0</td>\n",
       "      <td>22.0</td>\n",
       "      <td>33.0</td>\n",
       "    </tr>\n",
       "  </tbody>\n",
       "</table>\n",
       "</div>"
      ],
      "text/plain": [
       "      0     1     2\n",
       "m   1.0   2.0   3.0\n",
       "n  11.0  22.0  33.0"
      ]
     },
     "execution_count": 33,
     "metadata": {},
     "output_type": "execute_result"
    }
   ],
   "source": [
    "lst = [[1,2,3],[11,22,33]]\n",
    "df = pd.DataFrame(lst,index=['m','n'],dtype = float)\n",
    "df"
   ]
  },
  {
   "cell_type": "code",
   "execution_count": 31,
   "metadata": {},
   "outputs": [
    {
     "data": {
      "text/html": [
       "<div>\n",
       "<style scoped>\n",
       "    .dataframe tbody tr th:only-of-type {\n",
       "        vertical-align: middle;\n",
       "    }\n",
       "\n",
       "    .dataframe tbody tr th {\n",
       "        vertical-align: top;\n",
       "    }\n",
       "\n",
       "    .dataframe thead th {\n",
       "        text-align: right;\n",
       "    }\n",
       "</style>\n",
       "<table border=\"1\" class=\"dataframe\">\n",
       "  <thead>\n",
       "    <tr style=\"text-align: right;\">\n",
       "      <th></th>\n",
       "      <th>a</th>\n",
       "      <th>b</th>\n",
       "      <th>c</th>\n",
       "      <th>g</th>\n",
       "      <th>h</th>\n",
       "    </tr>\n",
       "  </thead>\n",
       "  <tbody>\n",
       "    <tr>\n",
       "      <th>first</th>\n",
       "      <td>[a, a, c]</td>\n",
       "      <td>5.0</td>\n",
       "      <td>5.0</td>\n",
       "      <td>5.0</td>\n",
       "      <td>5.0</td>\n",
       "    </tr>\n",
       "    <tr>\n",
       "      <th>second</th>\n",
       "      <td>5</td>\n",
       "      <td>10.0</td>\n",
       "      <td>20.0</td>\n",
       "      <td>5.0</td>\n",
       "      <td>5.0</td>\n",
       "    </tr>\n",
       "    <tr>\n",
       "      <th>th</th>\n",
       "      <td>11</td>\n",
       "      <td>5.0</td>\n",
       "      <td>5.0</td>\n",
       "      <td>6.0</td>\n",
       "      <td>1.0</td>\n",
       "    </tr>\n",
       "  </tbody>\n",
       "</table>\n",
       "</div>"
      ],
      "text/plain": [
       "                a     b     c    g    h\n",
       "first   [a, a, c]   5.0   5.0  5.0  5.0\n",
       "second          5  10.0  20.0  5.0  5.0\n",
       "th             11   5.0   5.0  6.0  1.0"
      ]
     },
     "execution_count": 31,
     "metadata": {},
     "output_type": "execute_result"
    }
   ],
   "source": [
    "data2 = [{'a':['a','a','c']},{'a':5,'b':10,'c':20},{'a':11,'h':1,'g':6}]\n",
    "df = pd.DataFrame(data2,index=['first','second','th'])\n",
    "df.fillna(value=5)"
   ]
  },
  {
   "cell_type": "code",
   "execution_count": 38,
   "metadata": {},
   "outputs": [
    {
     "data": {
      "text/html": [
       "<div>\n",
       "<style scoped>\n",
       "    .dataframe tbody tr th:only-of-type {\n",
       "        vertical-align: middle;\n",
       "    }\n",
       "\n",
       "    .dataframe tbody tr th {\n",
       "        vertical-align: top;\n",
       "    }\n",
       "\n",
       "    .dataframe thead th {\n",
       "        text-align: right;\n",
       "    }\n",
       "</style>\n",
       "<table border=\"1\" class=\"dataframe\">\n",
       "  <thead>\n",
       "    <tr style=\"text-align: right;\">\n",
       "      <th></th>\n",
       "      <th>Name</th>\n",
       "      <th>Age</th>\n",
       "    </tr>\n",
       "  </thead>\n",
       "  <tbody>\n",
       "    <tr>\n",
       "      <th>5</th>\n",
       "      <td>Alex</td>\n",
       "      <td>10.0</td>\n",
       "    </tr>\n",
       "    <tr>\n",
       "      <th>6</th>\n",
       "      <td>Bob</td>\n",
       "      <td>12.0</td>\n",
       "    </tr>\n",
       "    <tr>\n",
       "      <th>7</th>\n",
       "      <td>Clarke</td>\n",
       "      <td>13.0</td>\n",
       "    </tr>\n",
       "  </tbody>\n",
       "</table>\n",
       "</div>"
      ],
      "text/plain": [
       "     Name   Age\n",
       "5    Alex  10.0\n",
       "6     Bob  12.0\n",
       "7  Clarke  13.0"
      ]
     },
     "execution_count": 38,
     "metadata": {},
     "output_type": "execute_result"
    }
   ],
   "source": [
    "data = [['Alex',10],['Bob',12],['Clarke',13]]\n",
    "df = pd.DataFrame(data,columns=['Name','Age'],index=[5,6,7],dtype=float)\n",
    "df"
   ]
  },
  {
   "cell_type": "code",
   "execution_count": 40,
   "metadata": {},
   "outputs": [
    {
     "data": {
      "text/html": [
       "<div>\n",
       "<style scoped>\n",
       "    .dataframe tbody tr th:only-of-type {\n",
       "        vertical-align: middle;\n",
       "    }\n",
       "\n",
       "    .dataframe tbody tr th {\n",
       "        vertical-align: top;\n",
       "    }\n",
       "\n",
       "    .dataframe thead th {\n",
       "        text-align: right;\n",
       "    }\n",
       "</style>\n",
       "<table border=\"1\" class=\"dataframe\">\n",
       "  <thead>\n",
       "    <tr style=\"text-align: right;\">\n",
       "      <th></th>\n",
       "      <th>Age</th>\n",
       "      <th>Name</th>\n",
       "    </tr>\n",
       "  </thead>\n",
       "  <tbody>\n",
       "    <tr>\n",
       "      <th>5</th>\n",
       "      <td>10.0</td>\n",
       "      <td>Alex</td>\n",
       "    </tr>\n",
       "    <tr>\n",
       "      <th>6</th>\n",
       "      <td>12.0</td>\n",
       "      <td>Bob</td>\n",
       "    </tr>\n",
       "    <tr>\n",
       "      <th>7</th>\n",
       "      <td>13.0</td>\n",
       "      <td>Clarke</td>\n",
       "    </tr>\n",
       "  </tbody>\n",
       "</table>\n",
       "</div>"
      ],
      "text/plain": [
       "    Age    Name\n",
       "5  10.0    Alex\n",
       "6  12.0     Bob\n",
       "7  13.0  Clarke"
      ]
     },
     "execution_count": 40,
     "metadata": {},
     "output_type": "execute_result"
    }
   ],
   "source": [
    "data = [[10,'Alex'],[12,'Bob'],[13,'Clarke']]\n",
    "df = pd.DataFrame(data,columns=['Age','Name'],index=[5,6,7],dtype=float)\n",
    "df"
   ]
  },
  {
   "cell_type": "code",
   "execution_count": null,
   "metadata": {},
   "outputs": [],
   "source": []
  }
 ],
 "metadata": {
  "kernelspec": {
   "display_name": "Python 2",
   "language": "python",
   "name": "python2"
  },
  "language_info": {
   "codemirror_mode": {
    "name": "ipython",
    "version": 2
   },
   "file_extension": ".py",
   "mimetype": "text/x-python",
   "name": "python",
   "nbconvert_exporter": "python",
   "pygments_lexer": "ipython2",
   "version": "2.7.16"
  }
 },
 "nbformat": 4,
 "nbformat_minor": 2
}
